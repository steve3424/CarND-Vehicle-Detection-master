{
 "cells": [
  {
   "cell_type": "markdown",
   "metadata": {},
   "source": [
    "# Pipeline for vehicle detection in video\n",
    "1. Choose features to extract from train images\n",
    "2. Transform each training image into feature vector\n",
    "3. Use these labeled feature vectors to train classifier\n",
    "4. Run classifer on entire video frames in patches"
   ]
  },
  {
   "cell_type": "code",
   "execution_count": 122,
   "metadata": {},
   "outputs": [],
   "source": [
    "# import statements\n",
    "import glob\n",
    "import numpy as np\n",
    "import cv2\n",
    "import matplotlib.pyplot as plt\n",
    "import matplotlib.image as mpimg\n",
    "from skimage.feature import hog\n",
    "from sklearn.preprocessing import StandardScaler\n",
    "from sklearn.model_selection import train_test_split\n",
    "from sklearn.svm import LinearSVC"
   ]
  },
  {
   "cell_type": "markdown",
   "metadata": {},
   "source": [
    "#### Draw boxes function"
   ]
  },
  {
   "cell_type": "code",
   "execution_count": 2,
   "metadata": {},
   "outputs": [],
   "source": [
    "# draw boxes after corners are detected\n",
    "# boxes argument is an array of tuples, one for each box to draw, 2 corners in each box\n",
    "# boxes = [((corner1), (corner2)), ((corner1), (corner2)), ((corner1), (corner2))]\n",
    "# corners = (x,y)\n",
    "def draw_boxes(img, boxes, color=(0,0,255), thick=6):\n",
    "    # make copy of image\n",
    "    draw_image = np.copy(img)\n",
    "    # draw each box in boxes list\n",
    "    for box in boxes:\n",
    "        cv2.rectangle(draw_image, box[0], box[1], color, thick)\n",
    "    \n",
    "    return draw_image"
   ]
  },
  {
   "cell_type": "markdown",
   "metadata": {},
   "source": [
    "VISUALIZATION"
   ]
  },
  {
   "cell_type": "code",
   "execution_count": 3,
   "metadata": {},
   "outputs": [],
   "source": [
    "# # load images\n",
    "# test_images = glob.glob('test_images/*')\n",
    "# image_num = 3\n",
    "# img = mpimg.imread(test_images[image_num])\n",
    "# plt.imshow(img)\n",
    "\n",
    "# boxes = [((800,400),(950, 510)), ((1020,400),(1275,510))]\n",
    "# plt.imshow(draw_boxes(img, boxes))"
   ]
  },
  {
   "cell_type": "markdown",
   "metadata": {},
   "source": [
    "#### Explore dataset"
   ]
  },
  {
   "cell_type": "code",
   "execution_count": 4,
   "metadata": {},
   "outputs": [],
   "source": [
    "def explore_dataset(car_images, noncar_images):\n",
    "    data_dict = {}\n",
    "    data_dict['num_cars'] = len(car_images)\n",
    "    data_dict['num_noncars'] = len(noncar_images)\n",
    "    example_image = cv2.imread(car_image[0])\n",
    "    data_dict['image_shape'] = example_image.shape\n",
    "    data_dict['data_type'] = example_image.dtype\n",
    "    return data_dict"
   ]
  },
  {
   "cell_type": "markdown",
   "metadata": {},
   "source": [
    "# Feature Extraction"
   ]
  },
  {
   "cell_type": "markdown",
   "metadata": {},
   "source": [
    "VISUALIZATION\n",
    "\n",
    "+ Explore color spaces to use as features"
   ]
  },
  {
   "cell_type": "code",
   "execution_count": 8,
   "metadata": {
    "scrolled": true
   },
   "outputs": [],
   "source": [
    "# # load images\n",
    "# colorspace_cutouts = glob.glob('colorspace_cutouts/*')\n",
    "# test_images = colorspace_cutouts[6:]\n",
    "# cars = colorspace_cutouts[:3]\n",
    "# background = colorspace_cutouts[3:]\n",
    "# cutout = cv2.imread(background[0])\n",
    "# test_img = cv2.imread(test_images[2])\n",
    "\n",
    "\n",
    "# from mpl_toolkits.mplot3d import Axes3D\n",
    "# %matplotlib notebook\n",
    "\n",
    "# def plot3d(pixels, colors_rgb,\n",
    "#         axis_labels=list(\"RGB\"), axis_limits=((0, 255), (0, 255), (0, 255))):\n",
    "#     \"\"\"Plot pixels in 3D.\"\"\"\n",
    "\n",
    "#     # Create figure and 3D axes\n",
    "#     fig = plt.figure(figsize=(8, 8))\n",
    "#     ax = Axes3D(fig)\n",
    "\n",
    "#     # Set axis limits\n",
    "#     ax.set_xlim(*axis_limits[0])\n",
    "#     ax.set_ylim(*axis_limits[1])\n",
    "#     ax.set_zlim(*axis_limits[2])\n",
    "\n",
    "#     # Set axis labels and sizes\n",
    "#     ax.tick_params(axis='both', which='major', labelsize=14, pad=8)\n",
    "#     ax.set_xlabel(axis_labels[0], fontsize=16, labelpad=16)\n",
    "#     ax.set_ylabel(axis_labels[1], fontsize=16, labelpad=16)\n",
    "#     ax.set_zlabel(axis_labels[2], fontsize=16, labelpad=16)\n",
    "\n",
    "#     # Plot pixel values with colors given in colors_rgb\n",
    "#     ax.scatter(\n",
    "#         pixels[:, :, 0].ravel(),\n",
    "#         pixels[:, :, 1].ravel(),\n",
    "#         pixels[:, :, 2].ravel(),\n",
    "#         c=colors_rgb.reshape((-1, 3)), edgecolors='none')\n",
    "\n",
    "#     return ax  # return Axes3D object for further manipulation\n",
    "\n",
    "\n",
    "# # Read a color image\n",
    "# img = cutout\n",
    "\n",
    "# # Select a small fraction of pixels to plot by subsampling it\n",
    "# scale = max(img.shape[0], img.shape[1], 64) / 64  # at most 64 rows and columns\n",
    "# img_small = cv2.resize(img, (np.int(img.shape[1] / scale), np.int(img.shape[0] / scale)), interpolation=cv2.INTER_NEAREST)\n",
    "\n",
    "# # Convert subsampled image to desired color space(s)\n",
    "# img_small_RGB = cv2.cvtColor(img_small, cv2.COLOR_BGR2RGB)  # OpenCV uses BGR, matplotlib likes RGB\n",
    "# img_small_HSV = cv2.cvtColor(img_small, cv2.COLOR_BGR2HSV)\n",
    "# img_small_HLS = cv2.cvtColor(img_small, cv2.COLOR_BGR2HLS)\n",
    "# img_small_LUV = cv2.cvtColor(img_small, cv2.COLOR_BGR2LUV)\n",
    "# img_small_rgb = img_small_RGB / 255.  # scaled to [0, 1], only for plotting\n",
    "\n",
    "# # show original image\n",
    "# plt.imshow(img)\n",
    "\n",
    "# # Plot and show\n",
    "# plot3d(img_small_RGB, img_small_rgb)\n",
    "# plt.show()\n",
    "\n",
    "# plot3d(img_small_HSV, img_small_rgb, axis_labels=list(\"HSV\"))\n",
    "# plt.show()\n",
    "\n",
    "# plot3d(img_small_HLS, img_small_rgb, axis_labels=list(\"HLS\"))\n",
    "# plt.show()\n",
    "\n",
    "# plot3d(img_small_LUV, img_small_rgb, axis_labels=list(\"LUV\"))\n",
    "# plt.show()"
   ]
  },
  {
   "cell_type": "markdown",
   "metadata": {},
   "source": [
    "#### Histogram of color channels"
   ]
  },
  {
   "cell_type": "code",
   "execution_count": 9,
   "metadata": {},
   "outputs": [],
   "source": [
    "# find histograms of each color channel\n",
    "def color_hist(img, nbins=32, bins_range=(0,256)):\n",
    "    # find histograms of each color channel\n",
    "    channel1 = np.histogram(img[:,:,0], nbins, bins_range)\n",
    "    channel2 = np.histogram(img[:,:,1], nbins, bins_range)\n",
    "    channel3 = np.histogram(img[:,:,2], nbins, bins_range)\n",
    "    \n",
    "    # concatenate into single feature vector\n",
    "    hist_features = np.concatenate((channel1[0], channel2[0], channel3[0]))\n",
    "    \n",
    "    ## VISUALIZATION ##\n",
    "    # calculate bin centers based on nbins and bins_range parameters\n",
    "#     bin_edges = channel1[1]\n",
    "#     bin_centers = (bin_edges[1:] + bin_edges[:len(bin_edges)-1]) / 2\n",
    "#     return channel1, channel2, channel3, bin_centers, feature_vector\n",
    "\n",
    "    return hist_features"
   ]
  },
  {
   "cell_type": "markdown",
   "metadata": {},
   "source": [
    "VISUALIZATION"
   ]
  },
  {
   "cell_type": "code",
   "execution_count": 164,
   "metadata": {},
   "outputs": [],
   "source": [
    "# # load images\n",
    "# template_images = glob.glob('template_images/*')\n",
    "# img = mpimg.imread(template_images[0])\n",
    "# templates = template_images[1:]\n",
    "# temp_img = mpimg.imread(templates[0])\n",
    "\n",
    "\n",
    "# channel1, channel2, channel3, bin_centers, feature_vector = color_hist(temp_img)\n",
    "\n",
    "\n",
    "# ## plot individual histograms ##\n",
    "# fig = plt.figure(figsize=(12,3))\n",
    "# plt.subplot(131)\n",
    "# plt.bar(bin_centers, rhist[0])\n",
    "# plt.xlim(0, 256)\n",
    "# plt.title('R Histogram')\n",
    "# plt.subplot(132)\n",
    "# plt.bar(bin_centers, ghist[0])\n",
    "# plt.xlim(0, 256)\n",
    "# plt.title('G Histogram')\n",
    "# plt.subplot(133)\n",
    "# plt.bar(bin_centers, bhist[0])\n",
    "# plt.xlim(0, 256)\n",
    "# plt.title('B Histogram')\n",
    "# fig.tight_layout()"
   ]
  },
  {
   "cell_type": "markdown",
   "metadata": {},
   "source": [
    "#### Spatial binned features"
   ]
  },
  {
   "cell_type": "code",
   "execution_count": 60,
   "metadata": {},
   "outputs": [],
   "source": [
    "# after selecting colorspace which best separates car pixels, use it to define a feature vector\n",
    "def bin_spatial(img, size=(32,32)):\n",
    "    bin_spatial_features = cv2.resize(img, size).ravel()\n",
    "    return bin_spatial_features"
   ]
  },
  {
   "cell_type": "markdown",
   "metadata": {},
   "source": [
    "VISUALIZATION"
   ]
  },
  {
   "cell_type": "code",
   "execution_count": 61,
   "metadata": {},
   "outputs": [],
   "source": [
    "# ## remove .ravel() in function\n",
    "\n",
    "# template_images = glob.glob('template_images/*')\n",
    "# img = mpimg.imread(template_images[0])\n",
    "\n",
    "# plt.imshow(img)\n",
    "# plt.imshow(bin_spatial(img))"
   ]
  },
  {
   "cell_type": "markdown",
   "metadata": {},
   "source": [
    "#### HOG gradient features"
   ]
  },
  {
   "cell_type": "code",
   "execution_count": 163,
   "metadata": {},
   "outputs": [],
   "source": [
    "# add gradient vector to add structural information to the classifier\n",
    "# accepts single color channel or grayscale\n",
    "def hog_features(img, orient, pix_per_cell, cell_per_block, vis=True, feature_vec=True):\n",
    "    # return list of [hog_features, hog_image]\n",
    "    return_values = hog(img, orientations=orient, pixels_per_cell=(pix_per_cell, pix_per_cell), \\\n",
    "                       cells_per_block=(cell_per_block,cell_per_block), visualize=True, feature_vector=feature_vec, \\\n",
    "                       block_norm=\"L2-Hys\")\n",
    "    \n",
    "    hog_features = return_values[0]\n",
    "    hog_image = return_values[1]\n",
    "    if vis:\n",
    "        return hog_features, hog_image\n",
    "    else:\n",
    "        return hog_features"
   ]
  },
  {
   "cell_type": "markdown",
   "metadata": {},
   "source": [
    "VISUALIZATION"
   ]
  },
  {
   "cell_type": "code",
   "execution_count": 63,
   "metadata": {},
   "outputs": [
    {
     "name": "stderr",
     "output_type": "stream",
     "text": [
      "C:\\Users\\Steve-PC\\Anaconda3\\envs\\carnd-term1\\lib\\site-packages\\skimage\\feature\\_hog.py:248: skimage_deprecation: Argument `visualise` is deprecated and will be changed to `visualize` in v0.16\n",
      "  'be changed to `visualize` in v0.16', skimage_deprecation)\n"
     ]
    },
    {
     "data": {
      "text/plain": [
       "<matplotlib.image.AxesImage at 0x1fa8032e358>"
      ]
     },
     "execution_count": 63,
     "metadata": {},
     "output_type": "execute_result"
    },
    {
     "data": {
      "image/png": "[encoded data removed]",
      "text/plain": [
       "<matplotlib.figure.Figure at 0x1fa80143828>"
      ]
     },
     "metadata": {},
     "output_type": "display_data"
    },
    {
     "data": {
      "image/png": "[encoded data removed]",
      "text/plain": [
       "<matplotlib.figure.Figure at 0x1fa801e1e80>"
      ]
     },
     "metadata": {},
     "output_type": "display_data"
    }
   ],
   "source": [
    "# # load images\n",
    "# template_images = glob.glob('template_images/*')\n",
    "# img = mpimg.imread(template_images[3])\n",
    "\n",
    "# # parameters for hog function\n",
    "# orient = 9\n",
    "# pix_cell = 8\n",
    "# cell_block = 2\n",
    "\n",
    "# # convert to gray\n",
    "# gray = cv2.cvtColor(img, cv2.COLOR_RGB2GRAY)\n",
    "\n",
    "# # get hog_features and hog_image\n",
    "# hog_feat, hog_img = hog_features(gray, orient, pix_cell, cell_block)\n",
    "\n",
    "# # show images\n",
    "# plt.figure()\n",
    "# plt.imshow(img)\n",
    "\n",
    "# plt.figure()\n",
    "# plt.imshow(hog_img, cmap='gray')"
   ]
  },
  {
   "cell_type": "markdown",
   "metadata": {},
   "source": [
    "#### EXTRACTION FUNCTION"
   ]
  },
  {
   "cell_type": "code",
   "execution_count": 161,
   "metadata": {},
   "outputs": [],
   "source": [
    "# Use this function to extract all feature vectors from image to combine and scale\n",
    "# Parameters must match parameters of all extraction functions called\n",
    "# inputs list of image paths\n",
    "\n",
    "def extract_features(img_list, orient, pix_per_cell, cell_per_block, color_space='RGB',\\\n",
    "                     nbins=32, bins_range=(0,256), size=(32,32), vis=False, feature_vec=True):\n",
    "    \n",
    "    # create features list, append vector for each image\n",
    "    features_list = []\n",
    "    for image in img_list:\n",
    "        # read in image using cv2 = BGR\n",
    "        img = cv2.imread(image)\n",
    "        # convert to selected colorspace\n",
    "        if color_space != 'RGB':\n",
    "            if color_space == 'HSV':\n",
    "                feature_image = cv2.cvtColor(img, cv2.COLOR_BGR2HSV)\n",
    "            elif color_space == 'LUV':\n",
    "                feature_image = cv2.cvtColor(img, cv2.COLOR_BGR2LUV)\n",
    "            elif color_space == 'HLS':\n",
    "                feature_image = cv2.cvtColor(img, cv2.COLOR_BGR2HLS)\n",
    "            elif color_space == 'YUV':\n",
    "                feature_image = cv2.cvtColor(img, cv2.COLOR_BGR2YUV)\n",
    "            elif color_space == 'YCrCb':\n",
    "                feature_image = cv2.cvtColor(img, cv2.COLOR_BGR2YCrCb)\n",
    "        else: \n",
    "            feature_image =  cv2.cvtColor(img, cv2.COLOR_BGR2RGB)\n",
    "        \n",
    "        # create color histogram features\n",
    "        hist_vector = color_hist(feature_image, nbins, bins_range)\n",
    "        # create spatial binned features\n",
    "        spatial_bin_vector = bin_spatial(feature_image, size)\n",
    "        # create hog features\n",
    "        gray = cv2.cvtColor(feature_image, cv2.COLOR_RGB2GRAY)\n",
    "        hog_vector = hog_features(gray, orient, pix_per_cell, cell_per_block, vis, feature_vec)\n",
    "        \n",
    "        # concatenate features for each image\n",
    "        image_features = np.concatenate((hist_vector, spatial_bin_vector, hog_vector))\n",
    "        # append to list for each image\n",
    "        features_list.append(image_features)\n",
    "    return features_list"
   ]
  },
  {
   "cell_type": "markdown",
   "metadata": {},
   "source": [
    "# CLASSIFICATION"
   ]
  },
  {
   "cell_type": "markdown",
   "metadata": {},
   "source": [
    "#### PREPARE TRAINING DATA"
   ]
  },
  {
   "cell_type": "code",
   "execution_count": 152,
   "metadata": {},
   "outputs": [],
   "source": [
    "# parameters for feature extraction function\n",
    "orient = 15\n",
    "pix_per_cell = 8\n",
    "cell_per_block = 2\n",
    "cspace = 'HSV'"
   ]
  },
  {
   "cell_type": "code",
   "execution_count": 153,
   "metadata": {},
   "outputs": [],
   "source": [
    "# load training images\n",
    "cars_train = glob.glob('vehicle_training_set/vehicles_smallset/*.jpeg')\n",
    "non_cars_train = glob.glob('vehicle_training_set/non-vehicles_smallset/*.jpeg')\n",
    "\n",
    "# extract feature vectors from training images\n",
    "cars_features = extract_features(cars_train, orient, pix_per_cell, cell_per_block, color_space=cspace)\n",
    "non_cars_features = extract_features(non_cars_train, orient, pix_per_cell, cell_per_block, color_space=cspace)\n",
    "\n",
    "# create labels for each training set 1 == car, 0 == non-car\n",
    "cars_labels = np.ones(len(cars_features))\n",
    "non_cars_labels = np.zeros(len(non_cars_features))\n",
    "\n",
    "# combine training data and labels\n",
    "X = np.vstack((cars_features, non_cars_features)).astype(np.float64)\n",
    "y = np.hstack((cars_labels, non_cars_labels))\n",
    "\n",
    "# split train and test data\n",
    "rand_state = np.random.randint(0,100)\n",
    "X_train, X_test, y_train, y_test = train_test_split(X, y, test_size=0.2, random_state=rand_state)\n",
    "\n",
    "## scale data\n",
    "# FIT SCALER ON TRAINING SET ONLY\n",
    "X_scaler = StandardScaler().fit(X_train)\n",
    "# apply scaler to data\n",
    "scaled_X_train = X_scaler.transform(X_train)\n",
    "scaled_X_test = X_scaler.transform(X_test)"
   ]
  },
  {
   "cell_type": "markdown",
   "metadata": {},
   "source": [
    "#### BUILD CLASSIFIER"
   ]
  },
  {
   "cell_type": "code",
   "execution_count": 162,
   "metadata": {},
   "outputs": [
    {
     "name": "stdout",
     "output_type": "stream",
     "text": [
      "Accuracy of SVM on test set:  0.989247311828\n",
      "Predictions:  [ 0.  0.  1.  1.  0.  1.  1.  0.  0.  1.  0.  1.  1.  1.  0.]\n",
      "Ground trut:  [ 0.  0.  1.  1.  0.  1.  1.  0.  0.  1.  0.  1.  1.  1.  0.]\n"
     ]
    }
   ],
   "source": [
    "# define and train classifier\n",
    "clf = LinearSVC()\n",
    "clf.fit(scaled_X_train, y_train)\n",
    "\n",
    "# check accuracy on test set\n",
    "print('Accuracy of SVM on test set: ', clf.score(scaled_X_test, y_test))\n",
    "\n",
    "# ground truth test\n",
    "print('Predictions: ', clf.predict(scaled_X_test[:15]))\n",
    "print('Ground trut: ', y_test[:15])"
   ]
  },
  {
   "cell_type": "markdown",
   "metadata": {},
   "source": [
    "# SLIDING WINDOWS"
   ]
  },
  {
   "cell_type": "code",
   "execution_count": 166,
   "metadata": {},
   "outputs": [
    {
     "data": {
      "text/plain": [
       "'\\nWINDOWS PER IMAGE FORMULA\\nwindows_x = 1 + (image_width - window_image) / (window_width * overlap_proportion)\\nwindows_y = 1 + (image_height - window_image) / (window_height * overlap_proportion)\\ntotal_windows = windows_x * windows_y\\n'"
      ]
     },
     "execution_count": 166,
     "metadata": {},
     "output_type": "execute_result"
    }
   ],
   "source": [
    "'''\n",
    "WINDOWS PER IMAGE FORMULA\n",
    "windows_x = 1 + (image_width - window_width) / (window_width * overlap_proportion)\n",
    "windows_y = 1 + (image_height - window_height) / (window_height * overlap_proportion)\n",
    "total_windows = windows_x * windows_y\n",
    "\n",
    "'''"
   ]
  },
  {
   "cell_type": "code",
   "execution_count": null,
   "metadata": {},
   "outputs": [],
   "source": [
    "def slide_window(img, x_start_stop=[None, None], y_start_stop=[None, None], \n",
    "                    xy_window=(64, 64), xy_overlap=(0.5, 0.5)):\n",
    "    # If x and/or y start/stop positions not defined, set to image size\n",
    "    if not x_start_stop[0]:\n",
    "        x_start_stop[0] = 0\n",
    "    if not x_start_stop[1]:\n",
    "        x_start_stop[1] = img.shape[1]\n",
    "        \n",
    "    if not y_start_stop[0]:\n",
    "        y_start_stop[0] = 0\n",
    "    if not y_start_stop[1]:\n",
    "        y_start_stop[1] = img.shape[0]\n",
    "    \n",
    "    # Compute the span of the region to be searched\n",
    "    xspan = x_start_stop[1] - x_start_stop[0]\n",
    "    yspan = y_start_stop[1] - y_start_stop[0]\n",
    "    \n",
    "    # Compute the number of pixels per step in x/y\n",
    "    xstep = np.int(xy_window[0] * (1 - xy_overlap[0]))\n",
    "    ystep = np.int(xy_window[1] * (1 - xy_overlap[1]))\n",
    "    \n",
    "    # Compute the number of windows in x/y\n",
    "    windows_x = np.int(1 + (xspan - xy_window[0]) / xstep)\n",
    "    windows_y = np.int(1 + (yspan - xy_window[1]) / ystep)\n",
    "    \n",
    "    # Initialize a list to append window positions to\n",
    "    window_list = []\n",
    "    # Loop through finding x and y window positions\n",
    "    #     Note: you could vectorize this step, but in practice\n",
    "    #     you'll be considering windows one by one with your\n",
    "    #     classifier, so looping makes sense\n",
    "    for ny in range(windows_y):\n",
    "        for nx in range(windows_x):\n",
    "            # Calculate each window position\n",
    "            x_shift = xstep * nx\n",
    "            y_shift = ystep * ny\n",
    "            top_left = (x_start_stop[0] + x_shift, y_start_stop[0] + y_shift)\n",
    "            bottom_right = (top_left[0] + xy_window[0], top_left[1] + xy_window[1])\n",
    "            # Append window position to list\n",
    "            window_list.append((top_left, bottom_right))\n",
    "    # Return the list of windows\n",
    "    return window_list"
   ]
  }
 ],
 "metadata": {
  "kernelspec": {
   "display_name": "Python 3",
   "language": "python",
   "name": "python3"
  },
  "language_info": {
   "codemirror_mode": {
    "name": "ipython",
    "version": 3
   },
   "file_extension": ".py",
   "mimetype": "text/x-python",
   "name": "python",
   "nbconvert_exporter": "python",
   "pygments_lexer": "ipython3",
   "version": "3.5.2"
  },
  "widgets": {
   "state": {},
   "version": "1.1.2"
  }
 },
 "nbformat": 4,
 "nbformat_minor": 2
}
